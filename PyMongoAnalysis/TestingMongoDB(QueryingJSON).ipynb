{
 "cells": [
  {
   "cell_type": "markdown",
   "id": "1e977787",
   "metadata": {},
   "source": [
    "## MongoDB with Python - Querying JSON Documents"
   ]
  },
  {
   "cell_type": "markdown",
   "id": "e28898c2",
   "metadata": {},
   "source": [
    "**Open your MongoDB Client i.e mongoDB Compass to start the session**"
   ]
  },
  {
   "cell_type": "markdown",
   "id": "ef66b3e2",
   "metadata": {},
   "source": [
    "### 1. Import the Package and Connect to the MongoDB Server"
   ]
  },
  {
   "cell_type": "code",
   "execution_count": 1,
   "id": "aeb6b50a",
   "metadata": {},
   "outputs": [],
   "source": [
    "import pymongo  # It is the library which connects with MongoDB, It provides the Client!"
   ]
  },
  {
   "cell_type": "code",
   "execution_count": 2,
   "id": "91f5b8b1",
   "metadata": {},
   "outputs": [],
   "source": [
    "client = pymongo.MongoClient('mongodb://localhost:27017/')      #Give Correct IP address here (Check in your MongoDB Compass once!) # mongodb://1227.0.0.1:27017/"
   ]
  },
  {
   "cell_type": "markdown",
   "id": "01d1926e",
   "metadata": {},
   "source": [
    "**Previously we have create employeeinformation collection and stored the Records, in Employee Database**"
   ]
  },
  {
   "cell_type": "code",
   "execution_count": 3,
   "id": "f917991d",
   "metadata": {},
   "outputs": [],
   "source": [
    "# Connecting /  Creating a Database called 'Employee' and store it in mydb variable\n",
    "mydb = client['Employee']"
   ]
  },
  {
   "cell_type": "code",
   "execution_count": 4,
   "id": "0a04739f",
   "metadata": {},
   "outputs": [],
   "source": [
    "# and Inside the above database i'm creating a collection called 'employeeinformation'\n",
    "empinfo = mydb.employeeinformation  #It will not get executed until and unless records are created!"
   ]
  },
  {
   "cell_type": "code",
   "execution_count": 5,
   "id": "30624db4",
   "metadata": {},
   "outputs": [],
   "source": [
    "## Creating a Simple JSON Document\n",
    "record={\n",
    "        'firstname':'Sid',\n",
    "        'lastname':'Das',\n",
    "        'department':'Analytics',\n",
    "        'qualification':'BE',\n",
    "        'age':21\n",
    "        }"
   ]
  },
  {
   "cell_type": "code",
   "execution_count": 6,
   "id": "746b0d22",
   "metadata": {},
   "outputs": [
    {
     "data": {
      "text/plain": [
       "<pymongo.results.InsertOneResult at 0x22ddb64a160>"
      ]
     },
     "execution_count": 6,
     "metadata": {},
     "output_type": "execute_result"
    }
   ],
   "source": [
    "# insertOne() method\n",
    "empinfo.insert_one(record)"
   ]
  },
  {
   "cell_type": "code",
   "execution_count": null,
   "id": "1f280dc1",
   "metadata": {},
   "outputs": [],
   "source": [
    "# dropping the 'empinfo' collection  (Entire 'employeeinformation' will be dropped from MongoDB Compass)\n",
    "empinfo.drop()"
   ]
  },
  {
   "cell_type": "code",
   "execution_count": null,
   "id": "f4566815",
   "metadata": {},
   "outputs": [],
   "source": []
  },
  {
   "cell_type": "markdown",
   "id": "1c880b51",
   "metadata": {},
   "source": [
    "## TESTING (Creating New Database and Dropping the same!)"
   ]
  },
  {
   "cell_type": "code",
   "execution_count": null,
   "id": "29acb202",
   "metadata": {},
   "outputs": [],
   "source": [
    "mydb1 = client['Employee1']"
   ]
  },
  {
   "cell_type": "code",
   "execution_count": null,
   "id": "ab4a432d",
   "metadata": {},
   "outputs": [],
   "source": [
    "empinfo1 = mydb1.employeeinformation1  #It will not get executed until and unless records are created!"
   ]
  },
  {
   "cell_type": "code",
   "execution_count": null,
   "id": "ea851820",
   "metadata": {},
   "outputs": [],
   "source": [
    "# Creating Simple JSON Document with KEY:VALUE pair\n",
    "record={\n",
    "        'firstname':'Nani',\n",
    "        'lastname':'Das1',\n",
    "        'department':'Analytics'\n",
    "        }\n",
    "empinfo1.insert_one(record)"
   ]
  },
  {
   "cell_type": "code",
   "execution_count": null,
   "id": "b6a24964",
   "metadata": {},
   "outputs": [],
   "source": [
    "# Dropping the above Database\n",
    "empinfo1.drop()"
   ]
  },
  {
   "cell_type": "code",
   "execution_count": null,
   "id": "af9f1d37",
   "metadata": {},
   "outputs": [],
   "source": []
  }
 ],
 "metadata": {
  "kernelspec": {
   "display_name": "Python 3 (ipykernel)",
   "language": "python",
   "name": "python3"
  },
  "language_info": {
   "codemirror_mode": {
    "name": "ipython",
    "version": 3
   },
   "file_extension": ".py",
   "mimetype": "text/x-python",
   "name": "python",
   "nbconvert_exporter": "python",
   "pygments_lexer": "ipython3",
   "version": "3.9.15"
  }
 },
 "nbformat": 4,
 "nbformat_minor": 5
}
