{
 "cells": [
  {
   "cell_type": "markdown",
   "id": "033d0f45",
   "metadata": {},
   "source": [
    "# Mongodb Aggregate And Group analysis"
   ]
  },
  {
   "cell_type": "markdown",
   "id": "9b9593b2",
   "metadata": {},
   "source": [
    "\n",
    "**1. avg**\n",
    "\n",
    "**2. sum**\n",
    "\n",
    "**3. project**"
   ]
  },
  {
   "cell_type": "markdown",
   "id": "2b4ce16e",
   "metadata": {},
   "source": [
    "**Documentation:**\n",
    "    \n",
    "https://www.mongodb.com/docs/manual/reference/operator/aggregation/sum/\n",
    "\n",
    "https://www.mongodb.com/docs/manual/reference/operator/aggregation/avg/\n",
    "\n",
    "https://www.mongodb.com/docs/manual/reference/operator/aggregation/project/#mongodb-pipeline-pipe.-project"
   ]
  },
  {
   "cell_type": "code",
   "execution_count": 35,
   "id": "c16235f0",
   "metadata": {},
   "outputs": [],
   "source": [
    "# from pymongo library import MongoClient module\n",
    "from pymongo import MongoClient"
   ]
  },
  {
   "cell_type": "code",
   "execution_count": 36,
   "id": "8d6a92c9",
   "metadata": {},
   "outputs": [],
   "source": [
    "# creation of object MongoClient (This MongoClient help up to connect to the database)\n",
    "client = MongoClient()\n",
    "    \n",
    "# Connect with the portnumber and host  \n",
    "client = MongoClient(\"mongodb://localhost:27017/\")  "
   ]
  },
  {
   "cell_type": "code",
   "execution_count": 37,
   "id": "6286b962",
   "metadata": {},
   "outputs": [],
   "source": [
    "# Create a Database called as 'students' and Access database  \n",
    "mydatabase = client['Students']  "
   ]
  },
  {
   "cell_type": "code",
   "execution_count": 38,
   "id": "ee6b4ace",
   "metadata": {},
   "outputs": [],
   "source": [
    "# Create a Collection called as 'studentscores' inside students db and Access collection of the database  \n",
    "collection = mydatabase['studentscores']"
   ]
  },
  {
   "cell_type": "code",
   "execution_count": 6,
   "id": "ef071f1a",
   "metadata": {},
   "outputs": [
    {
     "data": {
      "text/plain": [
       "<pymongo.results.InsertManyResult at 0x1fa0ef66310>"
      ]
     },
     "execution_count": 6,
     "metadata": {},
     "output_type": "execute_result"
    }
   ],
   "source": [
    "# Insert many documents inside the collection// Records in the form of JSON\n",
    "data = [ \n",
    "    {\"user\":\"Sid\", \"subject\":\"Database\", \"score\":80}, \n",
    "    {\"user\":\"Leo\",  \"subject\":\"JavaScript\", \"score\":90}, \n",
    "    {\"user\":\"Leo\",  \"title\":\"Database\", \"score\":85}, \n",
    "    {\"user\":\"Sid\",  \"title\":\"JavaScript\", \"score\":75}, \n",
    "    {\"user\":\"Leo\",  \"title\":\"Data Science\", \"score\":60},\n",
    "    {\"user\":\"Sid\",  \"title\":\"Data Science\", \"score\":95}] \n",
    "  \n",
    "collection.insert_many(data)"
   ]
  },
  {
   "cell_type": "code",
   "execution_count": null,
   "id": "fc576f2e",
   "metadata": {},
   "outputs": [],
   "source": []
  },
  {
   "cell_type": "markdown",
   "id": "1c523d3b",
   "metadata": {},
   "source": [
    "# A. Group by SUM of total subjects"
   ]
  },
  {
   "cell_type": "markdown",
   "id": "0eb9b13c",
   "metadata": {},
   "source": [
    "### Find Leo And Sid Total Subjects"
   ]
  },
  {
   "cell_type": "code",
   "execution_count": 39,
   "id": "7396a28d",
   "metadata": {},
   "outputs": [],
   "source": [
    "#Here, we need to use AGGREGATE function (it comes with group by )\n",
    "agg_result= collection.aggregate([\n",
    "    { \n",
    "        \"$group\" :  \n",
    "                  {\"_id\" : \"$user\",      # Here, we are GROUPING by user: '$user' is our field name and '_id' is a unique identity \n",
    "                   \"Total Subject\" : {\"$sum\" : 1}}    # $sum is going to work on with $user to find how many users are there!, Total Subject is a custom field that we are creating\n",
    "    } \n",
    "])"
   ]
  },
  {
   "cell_type": "code",
   "execution_count": 40,
   "id": "22ca9391",
   "metadata": {},
   "outputs": [
    {
     "name": "stdout",
     "output_type": "stream",
     "text": [
      "{'_id': 'Leo', 'Total Subject': 3}\n",
      "{'_id': 'Sid', 'Total Subject': 3}\n"
     ]
    }
   ],
   "source": [
    "# Now, Print those records\n",
    "for i in agg_result: \n",
    "    print(i)"
   ]
  },
  {
   "cell_type": "code",
   "execution_count": null,
   "id": "3c83c2bb",
   "metadata": {},
   "outputs": [],
   "source": []
  },
  {
   "cell_type": "markdown",
   "id": "3d2afe8f",
   "metadata": {},
   "source": [
    "# Group by SUM of score"
   ]
  },
  {
   "cell_type": "markdown",
   "id": "fc67238c",
   "metadata": {},
   "source": [
    "### Calculating the total score based on user"
   ]
  },
  {
   "cell_type": "code",
   "execution_count": 41,
   "id": "87780139",
   "metadata": {},
   "outputs": [],
   "source": [
    "### Calculating the average score based on user\n",
    "agg_result = collection.aggregate([\n",
    "   {\n",
    "      \"$group\": \n",
    "               {\"_id\": '$user', \n",
    "                \"Total Marks\": {\"$sum\": \"$score\"}}  #Here, we are calculationg the SUM of score based on the user which are present in collection\n",
    "   }\n",
    "])"
   ]
  },
  {
   "cell_type": "code",
   "execution_count": 42,
   "id": "bc04b4b4",
   "metadata": {},
   "outputs": [
    {
     "name": "stdout",
     "output_type": "stream",
     "text": [
      "{'_id': 'Leo', 'Total Marks': 235}\n",
      "{'_id': 'Sid', 'Total Marks': 250}\n"
     ]
    }
   ],
   "source": [
    "# Now, Print those records (Out of 300 marks from 3 subjects they got: )\n",
    "for i in agg_result: \n",
    "    print(i)"
   ]
  },
  {
   "cell_type": "code",
   "execution_count": null,
   "id": "87752f54",
   "metadata": {},
   "outputs": [],
   "source": []
  },
  {
   "cell_type": "markdown",
   "id": "2e439122",
   "metadata": {},
   "source": [
    "# B. Group by AVG of score"
   ]
  },
  {
   "cell_type": "markdown",
   "id": "a4f6517e",
   "metadata": {},
   "source": [
    "### Calculating the average score based on user"
   ]
  },
  {
   "cell_type": "code",
   "execution_count": 43,
   "id": "4ee5c040",
   "metadata": {},
   "outputs": [],
   "source": [
    "agg_result = collection.aggregate([\n",
    "   {\n",
    "      \"$group\": \n",
    "               {\"_id\": '$user', \n",
    "                \"Students ave score\": {\"$avg\": \"$score\"}}  #Here, we are calculationg the SUM of score based on the user which are present in collection\n",
    "   }\n",
    "])"
   ]
  },
  {
   "cell_type": "code",
   "execution_count": 44,
   "id": "93911b4a",
   "metadata": {},
   "outputs": [
    {
     "name": "stdout",
     "output_type": "stream",
     "text": [
      "{'_id': 'Leo', 'Students ave score': 78.33333333333333}\n",
      "{'_id': 'Sid', 'Students ave score': 83.33333333333333}\n"
     ]
    }
   ],
   "source": [
    "# Now, Print those records (Out of 300 marks from 3 subjects they got: )\n",
    "for i in agg_result: \n",
    "    print(i)"
   ]
  },
  {
   "cell_type": "code",
   "execution_count": null,
   "id": "0f4e3529",
   "metadata": {},
   "outputs": [],
   "source": []
  },
  {
   "cell_type": "code",
   "execution_count": null,
   "id": "77166e05",
   "metadata": {},
   "outputs": [],
   "source": []
  },
  {
   "cell_type": "markdown",
   "id": "c4e212e4",
   "metadata": {},
   "source": [
    "# DataTime analysis:"
   ]
  },
  {
   "cell_type": "code",
   "execution_count": 13,
   "id": "b542613f",
   "metadata": {},
   "outputs": [],
   "source": [
    "import datetime as datetime"
   ]
  },
  {
   "cell_type": "code",
   "execution_count": 14,
   "id": "80878547",
   "metadata": {},
   "outputs": [],
   "source": [
    "### Create a new collection\n",
    "data=[  { \"_id\" : 1, \"item\" : \"abc\", \"price\" : 10, \"quantity\" : 2, \"date\" : datetime.datetime.utcnow()},\n",
    "        { \"_id\" : 2, \"item\" : \"jkl\", \"price\" : 20, \"quantity\" : 1, \"date\" : datetime.datetime.utcnow()},\n",
    "        { \"_id\" : 3, \"item\" : \"xyz\", \"price\" : 5, \"quantity\" : 5, \"date\" : datetime.datetime.utcnow()},\n",
    "        { \"_id\" : 4, \"item\" : \"abc\", \"price\" : 10, \"quantity\" : 10, \"date\" : datetime.datetime.utcnow()},\n",
    "        { \"_id\" : 5, \"item\" : \"xyz\", \"price\" : 5, \"quantity\" : 10, \"date\" :datetime.datetime.utcnow()}\n",
    "     ]"
   ]
  },
  {
   "cell_type": "code",
   "execution_count": 15,
   "id": "77c8cd5a",
   "metadata": {},
   "outputs": [
    {
     "data": {
      "text/plain": [
       "[{'_id': 1,\n",
       "  'item': 'abc',\n",
       "  'price': 10,\n",
       "  'quantity': 2,\n",
       "  'date': datetime.datetime(2023, 1, 2, 6, 15, 8, 448078)},\n",
       " {'_id': 2,\n",
       "  'item': 'jkl',\n",
       "  'price': 20,\n",
       "  'quantity': 1,\n",
       "  'date': datetime.datetime(2023, 1, 2, 6, 15, 8, 448078)},\n",
       " {'_id': 3,\n",
       "  'item': 'xyz',\n",
       "  'price': 5,\n",
       "  'quantity': 5,\n",
       "  'date': datetime.datetime(2023, 1, 2, 6, 15, 8, 448078)},\n",
       " {'_id': 4,\n",
       "  'item': 'abc',\n",
       "  'price': 10,\n",
       "  'quantity': 10,\n",
       "  'date': datetime.datetime(2023, 1, 2, 6, 15, 8, 448078)},\n",
       " {'_id': 5,\n",
       "  'item': 'xyz',\n",
       "  'price': 5,\n",
       "  'quantity': 10,\n",
       "  'date': datetime.datetime(2023, 1, 2, 6, 15, 8, 448078)}]"
      ]
     },
     "execution_count": 15,
     "metadata": {},
     "output_type": "execute_result"
    }
   ],
   "source": [
    "data"
   ]
  },
  {
   "cell_type": "code",
   "execution_count": 16,
   "id": "881ce442",
   "metadata": {},
   "outputs": [
    {
     "data": {
      "text/plain": [
       "<pymongo.results.InsertManyResult at 0x1fa0efe54f0>"
      ]
     },
     "execution_count": 16,
     "metadata": {},
     "output_type": "execute_result"
    }
   ],
   "source": [
    "# Now, Create a collection 'stores' and store the above data in it!\n",
    "mycollection = mydatabase['stores']  \n",
    "mycollection.insert_many(data)"
   ]
  },
  {
   "cell_type": "markdown",
   "id": "ed997136",
   "metadata": {},
   "source": [
    "### Find Overall Avg Price and Avg Quantity (this happens based on date) \n",
    "\n",
    "### To find avg of all the quantities (we need to Multiply Price with Qty) i.e we want a multiply of 10 * 2 = 20 ...so on"
   ]
  },
  {
   "cell_type": "code",
   "execution_count": 45,
   "id": "cd219664",
   "metadata": {},
   "outputs": [],
   "source": [
    "### Find Overall Avg Price and Avg Quantity (this happens based on date) i.e we want a multiply of 10 * 2 = 20 ...\n",
    "### Calculating the average quantity And Average Price\n",
    "agg_result=mycollection.aggregate([\n",
    "   {\n",
    "      \"$group\": {\n",
    "         \"_id\": '$item',      #Here, based on the item we have group it \n",
    "         \"avgAmount\": {\"$avg\": {\"$multiply\": [ \"$price\", \"$quantity\" ]}},  #To find avg of all the quantities (we need to Multiply Price with Qty)\n",
    "          \"avgQuantity\": { \"$avg\" : \"$quantity\" }\n",
    "      }\n",
    "   }\n",
    "])"
   ]
  },
  {
   "cell_type": "code",
   "execution_count": 46,
   "id": "1ec7e0bb",
   "metadata": {},
   "outputs": [
    {
     "name": "stdout",
     "output_type": "stream",
     "text": [
      "{'_id': 'abc', 'avgAmount': 60.0, 'avgQuantity': 6.0}\n",
      "{'_id': 'xyz', 'avgAmount': 37.5, 'avgQuantity': 7.5}\n",
      "{'_id': 'jkl', 'avgAmount': 20.0, 'avgQuantity': 1.0}\n"
     ]
    }
   ],
   "source": [
    "# Now, Print those records \n",
    "for i in agg_result: \n",
    "    print(i)"
   ]
  },
  {
   "cell_type": "code",
   "execution_count": null,
   "id": "9cec0072",
   "metadata": {},
   "outputs": [],
   "source": []
  },
  {
   "cell_type": "markdown",
   "id": "250da4ba",
   "metadata": {},
   "source": [
    "# C. $project"
   ]
  },
  {
   "cell_type": "markdown",
   "id": "949e03d5",
   "metadata": {},
   "source": [
    "**Its like a SELECT 'NAME_OF_COLUMNS,..' in MySQL**"
   ]
  },
  {
   "cell_type": "code",
   "execution_count": 22,
   "id": "dc065fba",
   "metadata": {},
   "outputs": [],
   "source": [
    "#data from documentation : https://www.mongodb.com/docs/manual/reference/operator/aggregation/project/#mongodb-pipeline-pipe.-project   (Always refer documentation)\n",
    "data = [{\n",
    "              \"_id\" : 1,\n",
    "              \"title\": \"abc123\",\n",
    "              \"isbn\": \"0001122223334\",\n",
    "              \"author\": { \"last\": \"zzz\", \"first\": \"aaa\" },\n",
    "              \"copies\": 5\n",
    "            },\n",
    "            {\n",
    "              \"_id\" : 2,\n",
    "              \"title\": \"Baked Goods\",\n",
    "              \"isbn\": \"9999999999999\",\n",
    "              \"author\": { \"last\": \"xyz\", \"first\": \"abc\", \"middle\": \"\" },\n",
    "              \"copies\": 2\n",
    "            },\n",
    "            {\n",
    "              \"_id\" : 3,\n",
    "              \"title\": \"Ice Cream Cakes\",\n",
    "              \"isbn\": \"8888888888888\",\n",
    "              \"author\": { \"last\": \"xyz\", \"first\": \"abc\", \"middle\": \"mmm\" },\n",
    "              \"copies\": 5\n",
    "       }]"
   ]
  },
  {
   "cell_type": "code",
   "execution_count": 47,
   "id": "989bab00",
   "metadata": {},
   "outputs": [],
   "source": [
    "# Access collection of the database called as 'students' and Access database  \n",
    "\n",
    "collection = mydatabase['Books']  "
   ]
  },
  {
   "cell_type": "code",
   "execution_count": 24,
   "id": "c56763b8",
   "metadata": {},
   "outputs": [
    {
     "data": {
      "text/plain": [
       "<pymongo.results.InsertManyResult at 0x1fa0ef66910>"
      ]
     },
     "execution_count": 24,
     "metadata": {},
     "output_type": "execute_result"
    }
   ],
   "source": [
    "# Insert many documents inside the collection// Records in the form of JSON\n",
    "collection.insert_many(data)"
   ]
  },
  {
   "cell_type": "code",
   "execution_count": 48,
   "id": "147c4e50",
   "metadata": {},
   "outputs": [
    {
     "name": "stdout",
     "output_type": "stream",
     "text": [
      "{'_id': 1, 'title': 'abc123', 'isbn': '0001122223334'}\n",
      "{'_id': 2, 'title': 'Baked Goods', 'isbn': '9999999999999'}\n",
      "{'_id': 3, 'title': 'Ice Cream Cakes', 'isbn': '8888888888888'}\n"
     ]
    }
   ],
   "source": [
    "for row in collection.aggregate([ { \"$project\": { \"title\": 1,\"isbn\":1 }} ]):\n",
    "    print(row)                                                  ##  like a SELECT 'NAME_OF_COLUMNS,..' in MySQL"
   ]
  },
  {
   "cell_type": "code",
   "execution_count": null,
   "id": "2fbe7b09",
   "metadata": {},
   "outputs": [],
   "source": []
  },
  {
   "cell_type": "code",
   "execution_count": null,
   "id": "0dafdde3",
   "metadata": {},
   "outputs": [],
   "source": []
  }
 ],
 "metadata": {
  "kernelspec": {
   "display_name": "Python 3 (ipykernel)",
   "language": "python",
   "name": "python3"
  },
  "language_info": {
   "codemirror_mode": {
    "name": "ipython",
    "version": 3
   },
   "file_extension": ".py",
   "mimetype": "text/x-python",
   "name": "python",
   "nbconvert_exporter": "python",
   "pygments_lexer": "ipython3",
   "version": "3.9.15"
  }
 },
 "nbformat": 4,
 "nbformat_minor": 5
}
