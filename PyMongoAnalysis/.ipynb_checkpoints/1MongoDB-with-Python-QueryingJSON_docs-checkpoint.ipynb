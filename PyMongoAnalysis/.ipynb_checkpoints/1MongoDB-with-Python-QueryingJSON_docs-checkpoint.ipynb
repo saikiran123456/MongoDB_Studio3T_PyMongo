{
 "cells": [
  {
   "cell_type": "markdown",
   "id": "89ad2242",
   "metadata": {},
   "source": [
    "# 1. Mongo Db with Python- Querying Json Documents\n",
    "## by.. ~ Saikiran Dasari"
   ]
  },
  {
   "cell_type": "markdown",
   "id": "0949a3a1",
   "metadata": {},
   "source": [
    "![title](mongoDB.gif)"
   ]
  },
  {
   "cell_type": "markdown",
   "id": "84398ec7",
   "metadata": {},
   "source": [
    "# Table of Contents: <a id=\"10\"></a>"
   ]
  },
  {
   "cell_type": "markdown",
   "id": "3fa9f890",
   "metadata": {},
   "source": [
    "1. [Import the pymongo Library.](#1)\n",
    "\n",
    "2. [Create a Connetion between MongoDB server and Pymongo.](#2)\n",
    "\n",
    "3. [Create a database called as 'Employee'](#3)\n",
    "\n",
    "4. [Create a collection 'employeeinformation' inside 'Employee' database](#4)\n",
    "\n",
    "5.1 [Adding one Document into the collection](#5.1)\n",
    "\n",
    "5.2 [Inserting Multiple Records now!!](#5.2)\n",
    "\n",
    "6. [Query Things as a Data Scientist (SImple Way of Querying)](#6)\n",
    "\n",
    "    * [A. find_one() function](#6.1)\n",
    "\n",
    "    * [B. find All the Records](#6.2)\n",
    "\n",
    "    * [C. Query the JSON documents based on Equality conditions](#6.3)\n",
    "    \n",
    "\n",
    "7. [Query documents using \"Query operators\"](#7)\n",
    "\n",
    "    * [A. $in operator](#7.1)\n",
    "    \n",
    "    * [B. $lt Operator (less than)](#7.2)\n",
    "    \n",
    "    * [C. $gt Operator (greater than)](#7.3)\n",
    "    \n",
    "    * [D. AND Operator (Both the Conditions should be satisfied)](#7.4)\n",
    "    \n",
    "    * [E. OR Operator (Either of the condition should satisfy)](#7.5)\n",
    "    \n",
    "    \n",
    "    \n",
    "8. [How to work with NESTED JSON documents ?](#8)\n",
    "    \n",
    "   * [Insert many JSON documents and Nested JSON documents inside the 'inventory' collection](#8.1)\n",
    "    \n",
    "    \n",
    "9. [UPDATE JSON Documents](#9)\n",
    "    \n",
    "    * [Insert Many JSON Documents into 'inventory' collection](#9.1)\n",
    "        \n",
    "    * [A. pymongo.collection.Collection.update_one()](#9.2)\n",
    "        \n",
    "    * [B. pymongo.collection.Collection.update_many()](#9.3)\n",
    "        \n",
    "    * [C. pymongo.collection.Collection.replace_one()](#9.4)"
   ]
  },
  {
   "cell_type": "markdown",
   "id": "567dbff3",
   "metadata": {},
   "source": [
    "## 1. Import the pymongo Library <a id=\"1\"></a>"
   ]
  },
  {
   "cell_type": "code",
   "execution_count": 1,
   "id": "0776c28b",
   "metadata": {},
   "outputs": [],
   "source": [
    "# pymongo is the library which actually helps Python to help connect MongoDB\n",
    "import pymongo"
   ]
  },
  {
   "cell_type": "markdown",
   "id": "c0d23a8e",
   "metadata": {},
   "source": [
    "## 2. Create a Connetion between MongoDB server and Pymongo <a id=\"2\"></a>"
   ]
  },
  {
   "cell_type": "code",
   "execution_count": 2,
   "id": "45984c2d",
   "metadata": {},
   "outputs": [],
   "source": [
    "# client = pymongo.MongoClient('mongodb://127.0.0.1:27017/')     OR "
   ]
  },
  {
   "cell_type": "code",
   "execution_count": 3,
   "id": "fddc4132",
   "metadata": {},
   "outputs": [],
   "source": [
    "# Connect with the portnumber and host \n",
    "client = pymongo.MongoClient('mongodb://localhost:27017/')"
   ]
  },
  {
   "cell_type": "markdown",
   "id": "e8e8d46c",
   "metadata": {},
   "source": [
    "## 3. Create a database called as 'Employee' <a id=\"3\"></a>"
   ]
  },
  {
   "cell_type": "code",
   "execution_count": 9,
   "id": "1e21a8ed",
   "metadata": {},
   "outputs": [],
   "source": [
    "# Create a Database 'Employee' and store it in mybd variable\n",
    "# Access database \n",
    "mydb = client['Employee']"
   ]
  },
  {
   "cell_type": "markdown",
   "id": "9cc04db4",
   "metadata": {},
   "source": [
    "### 4. Create a collection 'employeeinformation' inside 'Employee' database <a id=\"4\"></a>"
   ]
  },
  {
   "cell_type": "code",
   "execution_count": 10,
   "id": "4cb2bb98",
   "metadata": {},
   "outputs": [],
   "source": [
    "# Until and unless we will not create/add collections in any new databases, \n",
    "## it will not show up in Cilent Side i.e mongodb compass interface\n",
    "# Start Create One Collection and Access collection of the database  \n",
    "\n",
    "empinfo = mydb.employeeinformation"
   ]
  },
  {
   "cell_type": "markdown",
   "id": "73339e10",
   "metadata": {},
   "source": [
    "## 5.1 Adding one Document into the collection <a id=\"5.1\"></a>"
   ]
  },
  {
   "cell_type": "code",
   "execution_count": 11,
   "id": "efce3198",
   "metadata": {},
   "outputs": [
    {
     "data": {
      "text/plain": [
       "<pymongo.results.InsertOneResult at 0x22e723d1490>"
      ]
     },
     "execution_count": 11,
     "metadata": {},
     "output_type": "execute_result"
    }
   ],
   "source": [
    "record={\n",
    "        'firstname':'Rii',\n",
    "        'lastname':'Nani',\n",
    "        'department':'Analytics',\n",
    "        'qualification':'MS',\n",
    "        'age':25\n",
    "        }\n",
    "# To insert one record at once we use 'insert_one' method\n",
    "empinfo.insert_one(record)"
   ]
  },
  {
   "cell_type": "markdown",
   "id": "9c6b28c6",
   "metadata": {},
   "source": [
    "**All the Steps and following steps are verified by using MongoDB Compass**"
   ]
  },
  {
   "cell_type": "code",
   "execution_count": null,
   "id": "a1497fd8",
   "metadata": {},
   "outputs": [],
   "source": []
  },
  {
   "cell_type": "markdown",
   "id": "59bf03d4",
   "metadata": {},
   "source": [
    "## 5.2 Inserting Multiple Records now!! <a id=\"5.2\"></a>"
   ]
  },
  {
   "cell_type": "markdown",
   "id": "845dceae",
   "metadata": {},
   "source": [
    "**Makesure every data should be in list (Seperated using JSON [List of JSON docs])**"
   ]
  },
  {
   "cell_type": "code",
   "execution_count": 13,
   "id": "a9a91d0e",
   "metadata": {},
   "outputs": [],
   "source": [
    "records=[{\n",
    "        'firstname':'Leo',\n",
    "        'lastname':'Doe',\n",
    "        'department':'Analytics',\n",
    "        'qualification':'statistics',\n",
    "        'age':35\n",
    "        \n",
    "        },\n",
    "         {\n",
    "        'firstname':'Scotch ',\n",
    "        'lastname':'Smith',\n",
    "        'department':'Analytics',\n",
    "        'qualification':'masters',\n",
    "        'age':30\n",
    "        \n",
    "        },\n",
    "        {\n",
    "        'firstname':'Olive',\n",
    "        'lastname':'Sen',\n",
    "        'department':'Analytics',\n",
    "        'qualification':'phd',\n",
    "        'age':34\n",
    "        \n",
    "        },\n",
    "        {\n",
    "        'firstname':'Sam',\n",
    "        'lastname':'Singh',\n",
    "        'department':'Analytics',\n",
    "        'qualification':'master',\n",
    "        'age':32\n",
    "        \n",
    "        }]"
   ]
  },
  {
   "cell_type": "markdown",
   "id": "fd90ae6a",
   "metadata": {},
   "source": [
    "**Using insert_many method to PUSH many records at once**"
   ]
  },
  {
   "cell_type": "code",
   "execution_count": 14,
   "id": "5f7d308f",
   "metadata": {},
   "outputs": [
    {
     "data": {
      "text/plain": [
       "<pymongo.results.InsertManyResult at 0x22e7251e0d0>"
      ]
     },
     "execution_count": 14,
     "metadata": {},
     "output_type": "execute_result"
    }
   ],
   "source": [
    "empinfo.insert_many(records)"
   ]
  },
  {
   "cell_type": "code",
   "execution_count": null,
   "id": "7354b141",
   "metadata": {},
   "outputs": [],
   "source": []
  },
  {
   "cell_type": "code",
   "execution_count": null,
   "id": "8d43f24f",
   "metadata": {},
   "outputs": [],
   "source": []
  },
  {
   "cell_type": "markdown",
   "id": "a3d04ace",
   "metadata": {},
   "source": [
    "# 6. Query Things as a Data Scientist (SImple Way of Querying) <a id=\"6\"></a>"
   ]
  },
  {
   "cell_type": "markdown",
   "id": "f5b00442",
   "metadata": {},
   "source": [
    "### A. find_one() function <a id=\"6.1\"></a>"
   ]
  },
  {
   "cell_type": "markdown",
   "id": "7a7a9576",
   "metadata": {},
   "source": [
    "**Like: Select TOP 1 record**"
   ]
  },
  {
   "cell_type": "code",
   "execution_count": 16,
   "id": "54938835",
   "metadata": {},
   "outputs": [
    {
     "data": {
      "text/plain": [
       "{'_id': ObjectId('639f7a31b4e3eef97a1c6ea6'),\n",
       " 'firstname': 'Sid',\n",
       " 'lastname': 'Das',\n",
       " 'department': 'Analytics',\n",
       " 'qualification': 'BE',\n",
       " 'age': 21}"
      ]
     },
     "execution_count": 16,
     "metadata": {},
     "output_type": "execute_result"
    }
   ],
   "source": [
    "# To retrieve the very 1st Doc from that collection\n",
    "empinfo.find_one()"
   ]
  },
  {
   "cell_type": "code",
   "execution_count": null,
   "id": "f7eb6f04",
   "metadata": {},
   "outputs": [],
   "source": []
  },
  {
   "cell_type": "markdown",
   "id": "8ac7daef",
   "metadata": {},
   "source": [
    "### B. find All the Records <a id=\"6.2\"></a>"
   ]
  },
  {
   "cell_type": "markdown",
   "id": "d326bf50",
   "metadata": {},
   "source": [
    "**(like : select from employeeinformation)**"
   ]
  },
  {
   "cell_type": "code",
   "execution_count": 17,
   "id": "09746a3b",
   "metadata": {},
   "outputs": [
    {
     "name": "stdout",
     "output_type": "stream",
     "text": [
      "{'_id': ObjectId('639f7a31b4e3eef97a1c6ea6'), 'firstname': 'Sid', 'lastname': 'Das', 'department': 'Analytics', 'qualification': 'BE', 'age': 21}\n",
      "{'_id': ObjectId('63afb001be4587db22482e9f'), 'firstname': 'Rii', 'lastname': 'Nani', 'department': 'Analytics', 'qualification': 'MS', 'age': 25}\n",
      "{'_id': ObjectId('63b1a00ebe4587db22482ea1'), 'firstname': 'Leo', 'lastname': 'Doe', 'department': 'Analytics', 'qualification': 'statistics', 'age': 35}\n",
      "{'_id': ObjectId('63b1a00ebe4587db22482ea2'), 'firstname': 'Scotch ', 'lastname': 'Smith', 'department': 'Analytics', 'qualification': 'masters', 'age': 30}\n",
      "{'_id': ObjectId('63b1a00ebe4587db22482ea3'), 'firstname': 'Olive', 'lastname': 'Sen', 'department': 'Analytics', 'qualification': 'phd', 'age': 34}\n",
      "{'_id': ObjectId('63b1a00ebe4587db22482ea4'), 'firstname': 'Sam', 'lastname': 'Singh', 'department': 'Analytics', 'qualification': 'master', 'age': 32}\n"
     ]
    }
   ],
   "source": [
    "for record in empinfo.find():\n",
    "    print(record)"
   ]
  },
  {
   "cell_type": "code",
   "execution_count": null,
   "id": "85603298",
   "metadata": {},
   "outputs": [],
   "source": []
  },
  {
   "cell_type": "markdown",
   "id": "729fdce4",
   "metadata": {},
   "source": [
    "### C.  Query the JSON documents based on Equality conditions <a id=\"6.3\"></a>"
   ]
  },
  {
   "cell_type": "markdown",
   "id": "f9fd4b86",
   "metadata": {},
   "source": [
    "**Like: select from employeeinformation where firstname = oliver**"
   ]
  },
  {
   "cell_type": "code",
   "execution_count": 20,
   "id": "db0d1c80",
   "metadata": {},
   "outputs": [
    {
     "name": "stdout",
     "output_type": "stream",
     "text": [
      "{'_id': ObjectId('63b1a00ebe4587db22482ea3'), 'firstname': 'Olive', 'lastname': 'Sen', 'department': 'Analytics', 'qualification': 'phd', 'age': 34}\n"
     ]
    }
   ],
   "source": [
    "for record in empinfo.find({'firstname':'Olive'}):\n",
    "    print(record)"
   ]
  },
  {
   "cell_type": "code",
   "execution_count": null,
   "id": "4daa6767",
   "metadata": {},
   "outputs": [],
   "source": []
  },
  {
   "cell_type": "code",
   "execution_count": null,
   "id": "07e64c53",
   "metadata": {},
   "outputs": [],
   "source": []
  },
  {
   "cell_type": "markdown",
   "id": "a2c34f1d",
   "metadata": {},
   "source": [
    "# 7. Query documents using \"Query operators\" <a id=\"7\"></a>"
   ]
  },
  {
   "cell_type": "markdown",
   "id": "4c239dfd",
   "metadata": {},
   "source": [
    "### Types of Query Operators:"
   ]
  },
  {
   "cell_type": "markdown",
   "id": "1ca508df",
   "metadata": {},
   "source": [
    "### A. $in"
   ]
  },
  {
   "cell_type": "markdown",
   "id": "07cfe59f",
   "metadata": {},
   "source": [
    "### B. $lt (less than)"
   ]
  },
  {
   "cell_type": "markdown",
   "id": "486f6774",
   "metadata": {},
   "source": [
    "### C.  $gt (greater than)"
   ]
  },
  {
   "cell_type": "markdown",
   "id": "4da05919",
   "metadata": {},
   "source": [
    "**D. AND Operator (Both the Conditions should be satisfied)**\n",
    "\n",
    "**E. OR Operator (Either of the condition should satisfy)**"
   ]
  },
  {
   "cell_type": "markdown",
   "id": "88bf3103",
   "metadata": {},
   "source": [
    "### A. $in operator <a id=\"7.1\"></a>"
   ]
  },
  {
   "cell_type": "markdown",
   "id": "3de6b90e",
   "metadata": {},
   "source": [
    "**Like: select from empinfo where qualification IN('phd','master')**"
   ]
  },
  {
   "cell_type": "markdown",
   "id": "fa780a44",
   "metadata": {},
   "source": [
    "**Question) Print all the records where employee qualification is either PHD or Master**"
   ]
  },
  {
   "cell_type": "code",
   "execution_count": 21,
   "id": "6c26e0f8",
   "metadata": {},
   "outputs": [
    {
     "name": "stdout",
     "output_type": "stream",
     "text": [
      "{'_id': ObjectId('63b1a00ebe4587db22482ea3'), 'firstname': 'Olive', 'lastname': 'Sen', 'department': 'Analytics', 'qualification': 'phd', 'age': 34}\n",
      "{'_id': ObjectId('63b1a00ebe4587db22482ea4'), 'firstname': 'Sam', 'lastname': 'Singh', 'department': 'Analytics', 'qualification': 'master', 'age': 32}\n"
     ]
    }
   ],
   "source": [
    "for record in empinfo.find({'qualification':{'$in':['phd','master']}}):\n",
    "    print(record)"
   ]
  },
  {
   "cell_type": "code",
   "execution_count": null,
   "id": "bf64bee9",
   "metadata": {},
   "outputs": [],
   "source": []
  },
  {
   "cell_type": "markdown",
   "id": "a36b35f1",
   "metadata": {},
   "source": [
    "### B. $lt Operator (less than) <a id=\"7.2\"></a>"
   ]
  },
  {
   "cell_type": "markdown",
   "id": "0c15caa7",
   "metadata": {},
   "source": [
    "**Que) Retrieve all the documents where age < 35 and qualification is master**"
   ]
  },
  {
   "cell_type": "code",
   "execution_count": 22,
   "id": "6bea0f65",
   "metadata": {},
   "outputs": [
    {
     "name": "stdout",
     "output_type": "stream",
     "text": [
      "{'_id': ObjectId('63b1a00ebe4587db22482ea4'), 'firstname': 'Sam', 'lastname': 'Singh', 'department': 'Analytics', 'qualification': 'master', 'age': 32}\n"
     ]
    }
   ],
   "source": [
    "## Here we are passing 2 conditions (Its like a AND condition)\n",
    "for record in empinfo.find({'qualification':'master','age':{'$lt':35}}):\n",
    "    print(record)"
   ]
  },
  {
   "cell_type": "code",
   "execution_count": null,
   "id": "85355d05",
   "metadata": {},
   "outputs": [],
   "source": []
  },
  {
   "cell_type": "markdown",
   "id": "511d9f1e",
   "metadata": {},
   "source": [
    "### C. $gt Operator (greater than) <a id=\"7.3\"></a>"
   ]
  },
  {
   "cell_type": "markdown",
   "id": "2a4d6069",
   "metadata": {},
   "source": [
    "**Que) Retrieve all the records where age is > 25**"
   ]
  },
  {
   "cell_type": "code",
   "execution_count": 32,
   "id": "6c7a868b",
   "metadata": {},
   "outputs": [
    {
     "name": "stdout",
     "output_type": "stream",
     "text": [
      "{'_id': ObjectId('63b1a00ebe4587db22482ea1'), 'firstname': 'Leo', 'lastname': 'Doe', 'department': 'Analytics', 'qualification': 'statistics', 'age': 35}\n",
      "{'_id': ObjectId('63b1a00ebe4587db22482ea2'), 'firstname': 'Scotch ', 'lastname': 'Smith', 'department': 'Analytics', 'qualification': 'masters', 'age': 30}\n",
      "{'_id': ObjectId('63b1a00ebe4587db22482ea3'), 'firstname': 'Olive', 'lastname': 'Sen', 'department': 'Analytics', 'qualification': 'phd', 'age': 34}\n",
      "{'_id': ObjectId('63b1a00ebe4587db22482ea4'), 'firstname': 'Sam', 'lastname': 'Singh', 'department': 'Analytics', 'qualification': 'master', 'age': 32}\n"
     ]
    }
   ],
   "source": [
    "for record in empinfo.find({'age':{'$gt':25}}):\n",
    "    print(record)"
   ]
  },
  {
   "cell_type": "code",
   "execution_count": null,
   "id": "0d96e44e",
   "metadata": {},
   "outputs": [],
   "source": []
  },
  {
   "cell_type": "markdown",
   "id": "8705a4f6",
   "metadata": {},
   "source": [
    "### D. AND Operator (Both the Conditions should be satisfied) <a id=\"7.4\"></a>"
   ]
  },
  {
   "cell_type": "markdown",
   "id": "164bcfc3",
   "metadata": {},
   "source": [
    "**Que) Retrieve all the records where firstname is Sam and qualification is master**"
   ]
  },
  {
   "cell_type": "code",
   "execution_count": 24,
   "id": "0e58291e",
   "metadata": {},
   "outputs": [
    {
     "name": "stdout",
     "output_type": "stream",
     "text": [
      "{'_id': ObjectId('63b1a00ebe4587db22482ea4'), 'firstname': 'Sam', 'lastname': 'Singh', 'department': 'Analytics', 'qualification': 'master', 'age': 32}\n"
     ]
    }
   ],
   "source": [
    "for record in empinfo.find({'$and':[{'firstname':'Sam'},{'qualification':'master'}]}):\n",
    "    print(record)"
   ]
  },
  {
   "cell_type": "code",
   "execution_count": null,
   "id": "cb16649b",
   "metadata": {},
   "outputs": [],
   "source": []
  },
  {
   "cell_type": "markdown",
   "id": "34aceb77",
   "metadata": {},
   "source": [
    "### E. OR Operator (Either of the condition should satisfy) <a id=\"7.5\"></a>"
   ]
  },
  {
   "cell_type": "markdown",
   "id": "0bbb4d5e",
   "metadata": {},
   "source": [
    "**Que) Retrieve all the records where firstname is Olive or qualification is BE**"
   ]
  },
  {
   "cell_type": "code",
   "execution_count": 34,
   "id": "0cf9b098",
   "metadata": {},
   "outputs": [
    {
     "name": "stdout",
     "output_type": "stream",
     "text": [
      "{'_id': ObjectId('639f7a31b4e3eef97a1c6ea6'), 'firstname': 'Sid', 'lastname': 'Das', 'department': 'Analytics', 'qualification': 'BE', 'age': 21}\n",
      "{'_id': ObjectId('63b1a00ebe4587db22482ea3'), 'firstname': 'Olive', 'lastname': 'Sen', 'department': 'Analytics', 'qualification': 'phd', 'age': 34}\n"
     ]
    }
   ],
   "source": [
    "for record in empinfo.find({'$or':[{'firstname':'Olive'},{'qualification':'BE'}]}):\n",
    "    print(record)"
   ]
  },
  {
   "cell_type": "code",
   "execution_count": null,
   "id": "ad986805",
   "metadata": {},
   "outputs": [],
   "source": []
  },
  {
   "cell_type": "code",
   "execution_count": null,
   "id": "9602c782",
   "metadata": {},
   "outputs": [],
   "source": []
  },
  {
   "cell_type": "markdown",
   "id": "c5a34926",
   "metadata": {},
   "source": [
    "## 8. How to work with NESTED JSON documents ? <a id=\"8\"></a>"
   ]
  },
  {
   "cell_type": "markdown",
   "id": "8ebaa27e",
   "metadata": {},
   "source": [
    "### Create a collection 'inventory' inside 'Employee' database"
   ]
  },
  {
   "cell_type": "code",
   "execution_count": 35,
   "id": "14be4d88",
   "metadata": {},
   "outputs": [],
   "source": [
    "inventory = mydb.inventory"
   ]
  },
  {
   "cell_type": "markdown",
   "id": "9547babe",
   "metadata": {},
   "source": [
    "### Now, Insert many JSON documents and Nested JSON documents inside the collection <a id=\"8.1\"></a>"
   ]
  },
  {
   "cell_type": "code",
   "execution_count": 36,
   "id": "9f422a6a",
   "metadata": {},
   "outputs": [],
   "source": [
    "inventory.insert_many( [\n",
    "   { 'item': \"journal\", 'qty': 25, 'size': { 'h': 14, 'w': 21,'uom': \"cm\" }, 'status': \"A\" },\n",
    "   { 'item': \"notebook\", 'qty': 50,'size': { 'h': 8.5, 'w': 11,'uom': \"in\" },'status': \"A\" },\n",
    "   { 'item': \"paper\", 'qty': 100, 'size': { 'h': 8.5, 'w': 11,'uom': \"in\" },'status': \"D\" },\n",
    "   { 'item': \"planner\", 'qty': 75, 'size': { 'h': 22.85,'w': 30,'uom': \"cm\" },'status': \"D\" },\n",
    "   { 'item': \"postcard\", 'qty': 45, 'size': { 'h': 10, 'w': 15.25,'uom': \"cm\" },'status': \"A\" }\n",
    "]);"
   ]
  },
  {
   "cell_type": "markdown",
   "id": "df08d390",
   "metadata": {},
   "source": [
    "### Query the Nested Doc JSON records"
   ]
  },
  {
   "cell_type": "code",
   "execution_count": 43,
   "id": "74954094",
   "metadata": {},
   "outputs": [
    {
     "name": "stdout",
     "output_type": "stream",
     "text": [
      "{'_id': ObjectId('63b24e79be4587db22482ea5'), 'item': 'journal', 'qty': 25, 'size': {'h': 14, 'w': 21, 'uom': 'cm'}, 'status': 'A'}\n"
     ]
    }
   ],
   "source": [
    "for records in inventory.find({'size': { 'h': 14, 'w': 21,'uom': \"cm\" }}):\n",
    "    print(records)"
   ]
  },
  {
   "cell_type": "markdown",
   "id": "1148c82e",
   "metadata": {},
   "source": [
    "![NestedDocInsertOP](NestedDocInsertOP.jpg) "
   ]
  },
  {
   "cell_type": "code",
   "execution_count": null,
   "id": "afa54c2e",
   "metadata": {},
   "outputs": [],
   "source": []
  },
  {
   "cell_type": "code",
   "execution_count": null,
   "id": "676bb6a2",
   "metadata": {},
   "outputs": [],
   "source": []
  },
  {
   "cell_type": "markdown",
   "id": "6baf537f",
   "metadata": {},
   "source": [
    "# 9. UPDATE JSON Documents <a id=\"9\"></a>"
   ]
  },
  {
   "cell_type": "markdown",
   "id": "1ba3a3d2",
   "metadata": {},
   "source": [
    "## Functions to Discuss:\n",
    "\n",
    "**A. pymongo.collection.Collection.update_one()**\n",
    "\n",
    "**B. pymongo.collection.Collection.update_many()**\n",
    "\n",
    "**C. pymongo.collection.Collection.replace_one()**"
   ]
  },
  {
   "cell_type": "code",
   "execution_count": 66,
   "id": "62f9870e",
   "metadata": {},
   "outputs": [],
   "source": [
    "# From Start:\n",
    "import pymongo\n",
    "\n",
    "#Connect to the MongoDB client\n",
    "client = pymongo.MongoClient('mongodb://127.0.0.1:27017/')\n",
    "\n",
    "#Connect to the database 'employee'\n",
    "mydb = client['Employee']\n",
    "\n",
    "#Create the existing collection 'inventory'\n",
    "inventory = mydb.inventory"
   ]
  },
  {
   "cell_type": "markdown",
   "id": "b19ab825",
   "metadata": {},
   "source": [
    "### Insert Many JSON Documents! <a id=\"9.1\"></a>"
   ]
  },
  {
   "cell_type": "code",
   "execution_count": 67,
   "id": "8662d161",
   "metadata": {},
   "outputs": [
    {
     "data": {
      "text/plain": [
       "<pymongo.results.InsertManyResult at 0x22e7278dd60>"
      ]
     },
     "execution_count": 67,
     "metadata": {},
     "output_type": "execute_result"
    }
   ],
   "source": [
    "inventory.insert_many([\n",
    "    {\"item\": \"canvas\",\n",
    "     \"qty\": 100,\n",
    "     \"size\": {\"h\": 28, \"w\": 35.5, \"uom\": \"cm\"},\n",
    "     \"status\": \"A\"},\n",
    "    {\"item\": \"journal\",\n",
    "     \"qty\": 25,\n",
    "     \"size\": {\"h\": 14, \"w\": 21, \"uom\": \"cm\"},\n",
    "     \"status\": \"A\"},\n",
    "    {\"item\": \"mat\",\n",
    "     \"qty\": 85,\n",
    "     \"size\": {\"h\": 27.9, \"w\": 35.5, \"uom\": \"cm\"},\n",
    "     \"status\": \"A\"},\n",
    "    {\"item\": \"mousepad\",\n",
    "     \"qty\": 25,\n",
    "     \"size\": {\"h\": 19, \"w\": 22.85, \"uom\": \"cm\"},\n",
    "     \"status\": \"P\"},\n",
    "    {\"item\": \"notebook\",\n",
    "     \"qty\": 50,\n",
    "     \"size\": {\"h\": 8.5, \"w\": 11, \"uom\": \"in\"},\n",
    "     \"status\": \"P\"},\n",
    "    {\"item\": \"paper\",\n",
    "     \"qty\": 100,\n",
    "     \"size\": {\"h\": 8.5, \"w\": 11, \"uom\": \"in\"},\n",
    "     \"status\": \"D\"},\n",
    "    {\"item\": \"planner\",\n",
    "     \"qty\": 75,\n",
    "     \"size\": {\"h\": 22.85, \"w\": 30, \"uom\": \"cm\"},\n",
    "     \"status\": \"D\"},\n",
    "    {\"item\": \"postcard\",\n",
    "     \"qty\": 45,\n",
    "     \"size\": {\"h\": 10, \"w\": 15.25, \"uom\": \"cm\"},\n",
    "     \"status\": \"A\"},\n",
    "    {\"item\": \"sketchbook\",\n",
    "     \"qty\": 80,\n",
    "     \"size\": {\"h\": 14, \"w\": 21, \"uom\": \"cm\"},\n",
    "     \"status\": \"A\"},\n",
    "    {\"item\": \"sketch pad\",\n",
    "     \"qty\": 95,\n",
    "     \"size\": {\"h\": 22.85, \"w\": 30.5, \"uom\": \"cm\"},\n",
    "     \"status\": \"A\"}])"
   ]
  },
  {
   "cell_type": "markdown",
   "id": "fd8014ea",
   "metadata": {},
   "source": [
    "## A. pymongo.collection.Collection.update_one() <a id=\"9.2\"></a>"
   ]
  },
  {
   "cell_type": "markdown",
   "id": "f54faa37",
   "metadata": {},
   "source": [
    "**Update one document from inventory collection using item: 'sketch pad'{like for which item you want to replace what**"
   ]
  },
  {
   "cell_type": "markdown",
   "id": "695251ef",
   "metadata": {},
   "source": [
    "**Use '$set' operator to update/add records**\n",
    "\n",
    "**Use: '$currentDate' operator to add datetime variable**"
   ]
  },
  {
   "cell_type": "code",
   "execution_count": 68,
   "id": "7e615cac",
   "metadata": {},
   "outputs": [
    {
     "data": {
      "text/plain": [
       "<pymongo.results.UpdateResult at 0x22e70e32fa0>"
      ]
     },
     "execution_count": 68,
     "metadata": {},
     "output_type": "execute_result"
    }
   ],
   "source": [
    "inventory.update_one(\n",
    "                        {\"item\":\"sketch pad\"},\n",
    "                        {\"$set\": {\"size.uom\" : \"m\", \"status\" : \"P\"},\n",
    "                        \"$currentDate\" : {\"lastModified\" : True}}\n",
    "                    )"
   ]
  },
  {
   "cell_type": "markdown",
   "id": "de9cf3ec",
   "metadata": {},
   "source": [
    "![update_oneOP](update_oneOP.png)"
   ]
  },
  {
   "cell_type": "code",
   "execution_count": null,
   "id": "b192cab7",
   "metadata": {},
   "outputs": [],
   "source": []
  },
  {
   "cell_type": "markdown",
   "id": "8ee6a782",
   "metadata": {},
   "source": [
    "## B. pymongo.collection.Collection.update_many() <a id=\"9.3\"></a>"
   ]
  },
  {
   "cell_type": "markdown",
   "id": "3407e52b",
   "metadata": {},
   "source": [
    "**Wherever the Quantity Size in LESS than 50, Update the size to 'in' and status to 'P' and Add currentDate i.e dateTime variable**"
   ]
  },
  {
   "cell_type": "code",
   "execution_count": 69,
   "id": "9a711b4b",
   "metadata": {},
   "outputs": [
    {
     "name": "stdout",
     "output_type": "stream",
     "text": [
      "{'_id': ObjectId('63b26071be4587db22482ec2'), 'item': 'journal', 'qty': 25, 'size': {'h': 14, 'w': 21, 'uom': 'cm'}, 'status': 'A'}\n",
      "{'_id': ObjectId('63b26071be4587db22482ec4'), 'item': 'mousepad', 'qty': 25, 'size': {'h': 19, 'w': 22.85, 'uom': 'cm'}, 'status': 'P'}\n",
      "{'_id': ObjectId('63b26071be4587db22482ec8'), 'item': 'postcard', 'qty': 45, 'size': {'h': 10, 'w': 15.25, 'uom': 'cm'}, 'status': 'A'}\n"
     ]
    }
   ],
   "source": [
    "## Retrieve documents where Quantity Size in LESS than 50\n",
    "for record in inventory.find({'qty':{'$lt':50}}):\n",
    "    print(record)\n",
    "    \n",
    "#output:   \n",
    "# {'_id': ObjectId('63b25c2bbe4587db22482eb7'), 'item': 'journal', 'qty': 25, 'size': {'h': 14, 'w': 21, 'uom': 'cm'}, 'status': 'A'}\n",
    "# {'_id': ObjectId('63b25c2bbe4587db22482eb9'), 'item': 'mousepad', 'qty': 25, 'size': {'h': 19, 'w': 22.85, 'uom': 'cm'}, 'status': 'P'}\n",
    "# {'_id': ObjectId('63b25c2bbe4587db22482ebd'), 'item': 'postcard', 'qty': 45, 'size': {'h': 10, 'w': 15.25, 'uom': 'cm'}, 'status': 'A'}"
   ]
  },
  {
   "cell_type": "markdown",
   "id": "5bb30fed",
   "metadata": {},
   "source": [
    "**Note:Journal, mousepad and postcard have qty less than 50**"
   ]
  },
  {
   "cell_type": "code",
   "execution_count": 70,
   "id": "f24ff94c",
   "metadata": {},
   "outputs": [
    {
     "data": {
      "text/plain": [
       "<pymongo.results.UpdateResult at 0x22e723d16d0>"
      ]
     },
     "execution_count": 70,
     "metadata": {},
     "output_type": "execute_result"
    }
   ],
   "source": [
    "# Wherever the Quantity Size in LESS than 50, Update the size to 'in' and status to 'P' and Add currentDate i.e dateTime variable\n",
    "inventory.update_many(\n",
    "                        {\"qty\": {\"$lt\": 50}},\n",
    "                        {\"$set\": {\"size.uom\": \"in\", \"status\": \"P\"},\n",
    "                         \"$currentDate\": {\"lastModified\": True}}\n",
    "                     )"
   ]
  },
  {
   "cell_type": "code",
   "execution_count": 71,
   "id": "a5c039a1",
   "metadata": {},
   "outputs": [
    {
     "name": "stdout",
     "output_type": "stream",
     "text": [
      "{'_id': ObjectId('63b26071be4587db22482ec2'), 'item': 'journal', 'qty': 25, 'size': {'h': 14, 'w': 21, 'uom': 'in'}, 'status': 'P', 'lastModified': datetime.datetime(2023, 1, 2, 4, 41, 53, 685000)}\n",
      "{'_id': ObjectId('63b26071be4587db22482ec4'), 'item': 'mousepad', 'qty': 25, 'size': {'h': 19, 'w': 22.85, 'uom': 'in'}, 'status': 'P', 'lastModified': datetime.datetime(2023, 1, 2, 4, 41, 53, 685000)}\n",
      "{'_id': ObjectId('63b26071be4587db22482ec8'), 'item': 'postcard', 'qty': 45, 'size': {'h': 10, 'w': 15.25, 'uom': 'in'}, 'status': 'P', 'lastModified': datetime.datetime(2023, 1, 2, 4, 41, 53, 685000)}\n"
     ]
    }
   ],
   "source": [
    "for record in inventory.find({'qty':{'$lt':50}}):\n",
    "    print(record)\n",
    "    \n",
    "# {'_id': ObjectId('63b25c2bbe4587db22482eb7'), 'item': 'journal', 'qty': 25, 'size': {'h': 14, 'w': 21, 'uom': 'in'}, 'status': 'P', 'lastModified': datetime.datetime(2023, 1, 2, 4, 31, 2, 291000)}\n",
    "# {'_id': ObjectId('63b25c2bbe4587db22482eb9'), 'item': 'mousepad', 'qty': 25, 'size': {'h': 19, 'w': 22.85, 'uom': 'in'}, 'status': 'P', 'lastModified': datetime.datetime(2023, 1, 2, 4, 31, 2, 292000)}\n",
    "# {'_id': ObjectId('63b25c2bbe4587db22482ebd'), 'item': 'postcard', 'qty': 45, 'size': {'h': 10, 'w': 15.25, 'uom': 'in'}, 'status': 'P', 'lastModified': datetime.datetime(2023, 1, 2, 4, 31, 2, 292000)}"
   ]
  },
  {
   "cell_type": "markdown",
   "id": "dd5757e8",
   "metadata": {},
   "source": [
    "**Above we can see the Updated Results**"
   ]
  },
  {
   "cell_type": "code",
   "execution_count": null,
   "id": "ecf24993",
   "metadata": {},
   "outputs": [],
   "source": []
  },
  {
   "cell_type": "code",
   "execution_count": null,
   "id": "b2ce0f75",
   "metadata": {},
   "outputs": [],
   "source": []
  },
  {
   "cell_type": "markdown",
   "id": "87b33c86",
   "metadata": {},
   "source": [
    "## C. pymongo.collection.Collection.replace_one() <a id=\"9.4\"></a>"
   ]
  },
  {
   "cell_type": "code",
   "execution_count": 72,
   "id": "f84b2463",
   "metadata": {},
   "outputs": [
    {
     "name": "stdout",
     "output_type": "stream",
     "text": [
      "{'_id': ObjectId('63b26071be4587db22482ec6'), 'item': 'paper', 'qty': 100, 'size': {'h': 8.5, 'w': 11, 'uom': 'in'}, 'status': 'D'}\n"
     ]
    }
   ],
   "source": [
    "for record in inventory.find({'item':'paper'}):\n",
    "    print(record)\n",
    "\n",
    "# {'_id': ObjectId('63b25c2bbe4587db22482ebb'), 'item': 'paper', 'qty': 100, 'size': {'h': 8.5, 'w': 11, 'uom': 'in'}, 'status': 'D'}"
   ]
  },
  {
   "cell_type": "code",
   "execution_count": 73,
   "id": "aeb3e63d",
   "metadata": {},
   "outputs": [
    {
     "data": {
      "text/plain": [
       "<pymongo.results.UpdateResult at 0x22e723d1fd0>"
      ]
     },
     "execution_count": 73,
     "metadata": {},
     "output_type": "execute_result"
    }
   ],
   "source": [
    "inventory.replace_one(\n",
    "                    {\"item\": \"paper\"},\n",
    "                    {\"item\": \"paper\",\n",
    "                     \"instock\": [{\"warehouse\": \"A\", \"qty\": 60},\n",
    "                                 {\"warehouse\": \"B\", \"qty\": 40}]}\n",
    "                     )\n",
    "\n",
    "# In replace_one we have 2: filter: Mapping[str, Any], replacement: Mapping[str, Any]"
   ]
  },
  {
   "cell_type": "code",
   "execution_count": 74,
   "id": "f6ca7099",
   "metadata": {},
   "outputs": [
    {
     "name": "stdout",
     "output_type": "stream",
     "text": [
      "{'_id': ObjectId('63b26071be4587db22482ec6'), 'item': 'paper', 'instock': [{'warehouse': 'A', 'qty': 60}, {'warehouse': 'B', 'qty': 40}]}\n"
     ]
    }
   ],
   "source": [
    "for record in inventory.find({'item':'paper'}):\n",
    "    print(record)\n",
    "# {'_id': ObjectId('63b25c2bbe4587db22482ebb'), 'item': 'paper', 'instock': [{'warehouse': 'A', 'qty': 60}, {'warehouse': 'B', 'qty': 40}]}"
   ]
  },
  {
   "cell_type": "markdown",
   "id": "1b61b212",
   "metadata": {},
   "source": [
    "**Before Replacing JSON doc:**"
   ]
  },
  {
   "cell_type": "markdown",
   "id": "0d1543ca",
   "metadata": {},
   "source": [
    "![before_replace_one](before_replace_one.png)"
   ]
  },
  {
   "cell_type": "markdown",
   "id": "fcd104e6",
   "metadata": {},
   "source": [
    "**After Replacing JSON doc:**"
   ]
  },
  {
   "cell_type": "markdown",
   "id": "0b160432",
   "metadata": {},
   "source": [
    "![after_replace_one](after_replace_one.png)"
   ]
  },
  {
   "cell_type": "code",
   "execution_count": null,
   "id": "3e33d2f2",
   "metadata": {},
   "outputs": [],
   "source": []
  },
  {
   "cell_type": "markdown",
   "id": "2ebfc6df",
   "metadata": {},
   "source": [
    "# END"
   ]
  },
  {
   "cell_type": "markdown",
   "id": "7cf3ac4e",
   "metadata": {},
   "source": [
    "[Click here to redirect to the Table of Contents at Top](#10)"
   ]
  },
  {
   "cell_type": "code",
   "execution_count": null,
   "id": "5b20194a",
   "metadata": {},
   "outputs": [],
   "source": []
  },
  {
   "cell_type": "code",
   "execution_count": null,
   "id": "b400756f",
   "metadata": {},
   "outputs": [],
   "source": []
  }
 ],
 "metadata": {
  "kernelspec": {
   "display_name": "Python 3 (ipykernel)",
   "language": "python",
   "name": "python3"
  },
  "language_info": {
   "codemirror_mode": {
    "name": "ipython",
    "version": 3
   },
   "file_extension": ".py",
   "mimetype": "text/x-python",
   "name": "python",
   "nbconvert_exporter": "python",
   "pygments_lexer": "ipython3",
   "version": "3.9.15"
  }
 },
 "nbformat": 4,
 "nbformat_minor": 5
}
